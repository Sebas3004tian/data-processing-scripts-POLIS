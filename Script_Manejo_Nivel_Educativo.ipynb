{
 "cells": [
  {
   "cell_type": "markdown",
   "metadata": {},
   "source": [
    "Con este codigo se busca poder \"encontrar\" el nivel educativo de cada persona, adicionalmente marcar como indefinido a los afiliados que no se lograron identificar en la base de datos.\n",
    "\n",
    "Para esto se adaptó un script de Yuluka Gigante"
   ]
  },
  {
   "cell_type": "code",
   "execution_count": null,
   "metadata": {},
   "outputs": [],
   "source": [
    "#Importaciones necesarias para que funcione el codigo\n",
    "import pandas as pd\n",
    "import pyreadr\n",
    "import os\n",
    "import numpy as np\n",
    "import ast\n",
    "from datetime import datetime\n",
    "import json\n",
    "from collections import Counter\n",
    "import re"
   ]
  },
  {
   "cell_type": "code",
   "execution_count": null,
   "metadata": {},
   "outputs": [],
   "source": [
    "# Nombre de la carpeta donde antes de ejecutar el script se guardan los datos necesarios\n",
    "carpeta = \"insumos\"\n",
    "if not os.path.exists(carpeta):\n",
    "    os.makedirs(carpeta)\n",
    "\n",
    "# Nombre de la carpeta donde despues de ejecutar el script se guardan los datos\n",
    "carpeta = \"salidas\"\n",
    "if not os.path.exists(carpeta):\n",
    "    os.makedirs(carpeta)"
   ]
  },
  {
   "cell_type": "code",
   "execution_count": null,
   "metadata": {},
   "outputs": [],
   "source": [
    "#Leer el archivo de esa ruta\n",
    "data = pd.read_excel(\"insumos/ReporteFinalV2_1.xlsx\")"
   ]
  },
  {
   "cell_type": "code",
   "execution_count": null,
   "metadata": {},
   "outputs": [],
   "source": [
    "data.shape"
   ]
  },
  {
   "cell_type": "code",
   "execution_count": null,
   "metadata": {},
   "outputs": [],
   "source": [
    "original_ids = data['Número de documento'].astype(str).tolist()\n",
    "print(f\"🔍 Total IDs originales: {len(original_ids)}\")\n"
   ]
  },
  {
   "cell_type": "code",
   "execution_count": null,
   "metadata": {},
   "outputs": [],
   "source": [
    "def procesar_fila(df, index):\n",
    "    columnas_filtradas = [col for col in df.columns if col.startswith(\"Describa los miembros de su familia con los que convive actualmente (Incluyéndose usted):\")]\n",
    "\n",
    "    grupos = sorted(set(\"_\".join(col.split(\"_\")[:2]) for col in columnas_filtradas))  # \"columna_opcionX\"\n",
    "\n",
    "    resultados = []\n",
    "\n",
    "    for grupo in grupos:\n",
    "        columnas_del_grupo = [col for col in columnas_filtradas if col.startswith(grupo + \"_COM-\")]\n",
    "        \n",
    "        # Verificar si al menos una columna tiene datos válidos\n",
    "        tiene_dato_valido = any(pd.notna(df.at[index, col]) for col in columnas_del_grupo)\n",
    "        \n",
    "        if tiene_dato_valido:\n",
    "            # Construir el JSON con todas las claves, convirtiendo los valores a tipos estándar\n",
    "            json_obj = {col.split(\"_\")[-1]: df.at[index, col] if pd.notna(df.at[index, col]) else None for col in columnas_del_grupo}\n",
    "\n",
    "            # Convertir valores NumPy a tipos nativos de Python\n",
    "            json_obj = {k: (int(v) if isinstance(v, np.integer) else float(v) if isinstance(v, np.floating) else v) for k, v in json_obj.items()}\n",
    "            \n",
    "            resultados.append(json_obj)\n",
    "\n",
    "    return resultados\n"
   ]
  },
  {
   "cell_type": "code",
   "execution_count": null,
   "metadata": {},
   "outputs": [],
   "source": [
    "resultado = procesar_fila(data, 124)\n",
    "print(resultado)"
   ]
  },
  {
   "cell_type": "code",
   "execution_count": null,
   "metadata": {},
   "outputs": [],
   "source": [
    "found_members = {}  # Diccionario para almacenar las personas encontradas\n",
    "\n",
    "for index in range(len(data)):  # Iteramos sobre cada fila del DataFrame `data`\n",
    "    # Construimos una cadena de información con el número de documento, nombres y apellidos\n",
    "    person_info = f\"{data['Número de documento'][index]} - {data['Nombres:'][index]} {data['Apellidos:'][index]}\"\n",
    "\n",
    "    # Obtenemos el sexo y la fecha de nacimiento de la persona\n",
    "    sex = data['¿Cómo se reconoce?'][index]\n",
    "    birth_datestr = data['Fecha de nacimiento:'][index]\n",
    "    birth_date = datetime.strptime(birth_datestr, \"%d/%m/%Y\")  # Convertimos la fecha a objeto datetime\n",
    "\n",
    "    # Obtenemos la fecha en la que se realizó la encuesta\n",
    "    survey_time_start_date = datetime.strptime(data['TimeStart'][index], \"%Y-%m-%d %H:%M:%S\")\n",
    "\n",
    "    # Calculamos la edad en el momento de la encuesta\n",
    "    person_age = str(survey_time_start_date.year - birth_date.year - \n",
    "                     ((survey_time_start_date.month, survey_time_start_date.day) < \n",
    "                      (birth_date.month, birth_date.day)))\n",
    "\n",
    "    # Convertimos el sexo reportado en el formulario a una forma esperada\n",
    "    if sex == 'Hombre':\n",
    "        expected_sex = 'Masculino'\n",
    "    elif sex == 'Mujer':\n",
    "        expected_sex = 'Femenino'\n",
    "\n",
    "    # Procesamos la fila para obtener la información de los miembros de la familia\n",
    "    person_family = procesar_fila(data, index)\n",
    "\n",
    "    # Iteramos sobre los miembros de la familia de la persona encuestada\n",
    "    for member in person_family:\n",
    "        # Obtenemos la información del miembro de la familia\n",
    "        member_sex = member['COM-23'].strip().lower()  # Normalizamos el formato del sexo\n",
    "        member_age = int(member['COM-24']) if member['COM-24'] is not None else -1  # Convertimos la edad a entero (-1 si es nulo)\n",
    "        member_work = member['COM-27'].strip().lower()  # Normalizamos el formato del tipo de trabajo\n",
    "\n",
    "        # Convertimos las variables a minúsculas y enteros para evitar inconsistencias\n",
    "        expected_sex = expected_sex.lower()\n",
    "        person_age = int(person_age)\n",
    "\n",
    "        # Verificamos si el miembro de la familia cumple con los criterios esperados\n",
    "        if member_sex == expected_sex and member_age == person_age and member_work == 'trabajo formal':\n",
    "            # Si encontramos coincidencia, almacenamos la información en `found_members`\n",
    "            found_members[person_info] = member\n",
    "            print(f\"✅ ¡Encontrado!: {person_info} -> {member}\")\n",
    "\n",
    "            # Asignamos el nivel educativo del miembro a la persona encuestada en el DataFrame\n",
    "            data.at[index, 'Nivel Educativo'] = member.get('COM-25', 'nivel educativo')\n",
    "\n",
    "            # Marcamos el estado de la persona encuestada como \"Afiliado\"\n",
    "            data.at[index, 'Estado'] = \"Afiliado\"\n",
    "            break  # Salimos del bucle porque ya encontramos una coincidencia\n",
    "\n",
    "# Mostramos cuántas personas han sido encontradas\n",
    "print(f\"Found: {len(found_members)} de {len(data)}\")\n"
   ]
  },
  {
   "cell_type": "code",
   "execution_count": null,
   "metadata": {},
   "outputs": [],
   "source": [
    "found_keys = {key.split(' - ')[0] for key in found_members.keys()}\n",
    "print(f\"✅ Total IDs encontrados: {len(found_keys)}\")\n",
    "not_found = data[~data['Número de documento'].astype(str).isin(found_keys)]\n",
    "not_found_ids = data[~data['Número de documento'].astype(str).isin(found_keys)]['Número de documento'].astype(str).tolist()\n",
    "print(f\"❌ Total IDs no encontrados: {len(not_found_ids)}\")\n",
    "\n",
    "print(\"-\" * 100)\n",
    "found_counter = Counter(found_keys)\n",
    "duplicated_found = {key: val for key, val in found_counter.items() if val > 1}\n",
    "\n",
    "not_found_counter = Counter(not_found_ids)\n",
    "duplicated_not_found = {key: val for key, val in not_found_counter.items() if val > 1}\n",
    "\n",
    "print(f\"🔎 IDs duplicados en Found: {len(duplicated_found)}\")\n",
    "print(f\"🛑 IDs duplicados en Not Found: {len(duplicated_not_found)}\")\n",
    "\n",
    "# Mostrar algunos ejemplos de duplicados\n",
    "print(f\"Ejemplo duplicados en Found: {list(duplicated_found.items())[:5]}\")\n",
    "print(f\"Ejemplo duplicados en Not Found: {list(duplicated_not_found.items())[:5]}\")\n",
    "\n",
    "print(\"-\" * 100)\n",
    "\n",
    "# Encontrar IDs que están en ambos grupos\n",
    "intersection_ids = set(found_keys) & set(not_found_ids)\n",
    "\n",
    "print(f\"⚠️ IDs que aparecen en ambos grupos: {len(intersection_ids)}\")\n",
    "print(f\"Ejemplo de IDs en ambos grupos: {list(intersection_ids)[:5]}\")\n",
    "\n",
    "print(\"-\" * 100)\n",
    "\n",
    "# Contamos cuántas veces aparece cada ID en `data`\n",
    "data_counter = Counter(original_ids)\n",
    "duplicated_data = {key: val for key, val in data_counter.items() if val > 1}\n",
    "\n",
    "print(f\"🔍 IDs duplicados en `data`: {len(duplicated_data)}\")\n",
    "print(f\"Ejemplo de IDs duplicados en `data`: {list(duplicated_data.items())[:5]}\")\n"
   ]
  },
  {
   "cell_type": "code",
   "execution_count": null,
   "metadata": {},
   "outputs": [],
   "source": [
    "# Asignar \"Indefinido\" a los registros no encontrados\n",
    "data.loc[data['Número de documento'].astype(str).isin(not_found_ids), 'Estado'] = 'Indefinido'"
   ]
  },
  {
   "cell_type": "code",
   "execution_count": null,
   "metadata": {},
   "outputs": [],
   "source": [
    "data.to_excel('salidas/ReporteFinalV2_1_ACTUALIZADO.xlsx', index=False)"
   ]
  },
  {
   "cell_type": "code",
   "execution_count": null,
   "metadata": {},
   "outputs": [],
   "source": [
    "# Filtramos solo los registros que tienen IDs duplicados\n",
    "duplicated_rows = data[data['Número de documento'].astype(str).isin(duplicated_data)]\n",
    "\n",
    "# Ordenamos por ID para facilitar la comparación\n",
    "duplicated_rows = duplicated_rows.sort_values(by='Número de documento')\n",
    "\n",
    "# Guardamos el resultado en un Excel para revisar manualmente (opcional)\n",
    "duplicated_rows.to_excel('salidas/duplicated_records.xlsx', index=False)\n",
    "\n",
    "# Mostramos las primeras filas para inspección rápida\n",
    "print(duplicated_rows)\n"
   ]
  },
  {
   "cell_type": "code",
   "execution_count": null,
   "metadata": {},
   "outputs": [],
   "source": [
    "not_found.to_excel('salidas/not_found_members.xlsx', index=False)"
   ]
  },
  {
   "cell_type": "code",
   "execution_count": null,
   "metadata": {},
   "outputs": [],
   "source": [
    "not_found.shape"
   ]
  },
  {
   "cell_type": "code",
   "execution_count": null,
   "metadata": {},
   "outputs": [],
   "source": [
    "data.shape"
   ]
  },
  {
   "cell_type": "code",
   "execution_count": null,
   "metadata": {},
   "outputs": [],
   "source": [
    "for index in range(len(data)):\n",
    "    person_family = procesar_fila(data, index)\n",
    "\n",
    "    print(f\"Total miembros de familia: {len(person_family)}\")\n",
    "\n",
    "    for member in person_family:\n",
    "        print(f\"{member['COM-20']} - {member['COM-21']}\")"
   ]
  }
 ],
 "metadata": {
  "kernelspec": {
   "display_name": "Python 3",
   "language": "python",
   "name": "python3"
  },
  "language_info": {
   "codemirror_mode": {
    "name": "ipython",
    "version": 3
   },
   "file_extension": ".py",
   "mimetype": "text/x-python",
   "name": "python",
   "nbconvert_exporter": "python",
   "pygments_lexer": "ipython3",
   "version": "3.11.4"
  }
 },
 "nbformat": 4,
 "nbformat_minor": 2
}
