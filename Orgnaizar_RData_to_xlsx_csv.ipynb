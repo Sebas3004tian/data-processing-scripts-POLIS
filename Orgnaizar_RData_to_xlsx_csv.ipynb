{
 "cells": [
  {
   "cell_type": "code",
   "execution_count": 9,
   "metadata": {},
   "outputs": [],
   "source": [
    "#pip install pyreadr\n",
    "\n",
    "#Importaciones necesarias para que funcione el codigo\n",
    "import pandas as pd\n",
    "import pyreadr\n",
    "import os"
   ]
  },
  {
   "cell_type": "markdown",
   "metadata": {},
   "source": [
    "Este codigo es para convertir todos los RData que se encuentren dentro de la carpeta Data/RData, por ende es necesario tener almenos un archivo RData en la carpeta, para su correcta conversion a csv xlsx."
   ]
  },
  {
   "cell_type": "code",
   "execution_count": 10,
   "metadata": {},
   "outputs": [
    {
     "name": "stdout",
     "output_type": "stream",
     "text": [
      "Carpetas creadas exitosamente dentro de 'Data'.\n"
     ]
    }
   ],
   "source": [
    "# Nombre de la carpeta principal\n",
    "carpeta_principal = \"Data\"\n",
    "\n",
    "# Crear la carpeta principal si no existe\n",
    "if not os.path.exists(carpeta_principal):\n",
    "    os.makedirs(carpeta_principal)\n",
    "\n",
    "# Subcarpetas dentro de \"Data\"\n",
    "subcarpetas = [\"RData\", \"Excel\", \"csv\"]\n",
    "\n",
    "# Crear cada subcarpeta dentro de \"Data\"\n",
    "for sub in subcarpetas:\n",
    "    ruta = os.path.join(carpeta_principal, sub)\n",
    "    if not os.path.exists(ruta):\n",
    "        os.makedirs(ruta)\n",
    "\n",
    "print(\"Carpetas creadas exitosamente dentro de 'Data'.\")"
   ]
  },
  {
   "cell_type": "markdown",
   "metadata": {},
   "source": [
    "#Apartado para pasar de RData a csv"
   ]
  },
  {
   "cell_type": "code",
   "execution_count": 11,
   "metadata": {},
   "outputs": [
    {
     "name": "stdout",
     "output_type": "stream",
     "text": [
      "La carpeta 'Data\\RData' contiene 10 archivos.\n",
      "Leyendo: Data\\RData\\CaliBRANDO14.RData\n",
      "Claves disponibles en CaliBRANDO14.RData: odict_keys(['CaliBRANDO14'])\n",
      "Comparación de dimensiones para CaliBRANDO14.RData:\n",
      "   Original: 1206 filas, 556 columnas\n",
      "   CSV: 1206 filas, 556 columnas\n",
      "   Excel: 1206 filas, 556 columnas\n",
      "Archivo Excel guardado como 'CaliBRANDO14.xlsx' y csv como 'CaliBRANDO14.csv'\n",
      "----------------------------------------------------------------------------------------------------\n",
      "Leyendo: Data\\RData\\CaliBRANDO15.RData\n",
      "Claves disponibles en CaliBRANDO15.RData: odict_keys(['CaliBRANDO15'])\n"
     ]
    },
    {
     "name": "stderr",
     "output_type": "stream",
     "text": [
      "C:\\Users\\57312\\AppData\\Local\\Temp\\ipykernel_17372\\3959806701.py:45: DtypeWarning: Columns (533) have mixed types. Specify dtype option on import or set low_memory=False.\n",
      "  df_csv = pd.read_csv(ruta_csv)\n"
     ]
    },
    {
     "name": "stdout",
     "output_type": "stream",
     "text": [
      "Comparación de dimensiones para CaliBRANDO15.RData:\n",
      "   Original: 1204 filas, 556 columnas\n",
      "   CSV: 1204 filas, 556 columnas\n",
      "   Excel: 1204 filas, 556 columnas\n",
      "Archivo Excel guardado como 'CaliBRANDO15.xlsx' y csv como 'CaliBRANDO15.csv'\n",
      "----------------------------------------------------------------------------------------------------\n",
      "Leyendo: Data\\RData\\CaliBRANDO16.RData\n",
      "Claves disponibles en CaliBRANDO16.RData: odict_keys(['CaliBRANDO16'])\n"
     ]
    },
    {
     "name": "stderr",
     "output_type": "stream",
     "text": [
      "C:\\Users\\57312\\AppData\\Local\\Temp\\ipykernel_17372\\3959806701.py:45: DtypeWarning: Columns (150,456) have mixed types. Specify dtype option on import or set low_memory=False.\n",
      "  df_csv = pd.read_csv(ruta_csv)\n"
     ]
    },
    {
     "name": "stdout",
     "output_type": "stream",
     "text": [
      "Comparación de dimensiones para CaliBRANDO16.RData:\n",
      "   Original: 1206 filas, 556 columnas\n",
      "   CSV: 1206 filas, 556 columnas\n",
      "   Excel: 1206 filas, 556 columnas\n",
      "Archivo Excel guardado como 'CaliBRANDO16.xlsx' y csv como 'CaliBRANDO16.csv'\n",
      "----------------------------------------------------------------------------------------------------\n",
      "Leyendo: Data\\RData\\CaliBRANDO17.RData\n",
      "Claves disponibles en CaliBRANDO17.RData: odict_keys(['CaliBRANDO17'])\n"
     ]
    },
    {
     "name": "stderr",
     "output_type": "stream",
     "text": [
      "C:\\Users\\57312\\AppData\\Local\\Temp\\ipykernel_17372\\3959806701.py:45: DtypeWarning: Columns (150,198) have mixed types. Specify dtype option on import or set low_memory=False.\n",
      "  df_csv = pd.read_csv(ruta_csv)\n"
     ]
    },
    {
     "name": "stdout",
     "output_type": "stream",
     "text": [
      "Comparación de dimensiones para CaliBRANDO17.RData:\n",
      "   Original: 1237 filas, 556 columnas\n",
      "   CSV: 1237 filas, 556 columnas\n",
      "   Excel: 1237 filas, 556 columnas\n",
      "Archivo Excel guardado como 'CaliBRANDO17.xlsx' y csv como 'CaliBRANDO17.csv'\n",
      "----------------------------------------------------------------------------------------------------\n",
      "Leyendo: Data\\RData\\CaliBRANDO18.RData\n",
      "Claves disponibles en CaliBRANDO18.RData: odict_keys(['CaliBRANDO18'])\n"
     ]
    },
    {
     "name": "stderr",
     "output_type": "stream",
     "text": [
      "C:\\Users\\57312\\AppData\\Local\\Temp\\ipykernel_17372\\3959806701.py:45: DtypeWarning: Columns (198,505) have mixed types. Specify dtype option on import or set low_memory=False.\n",
      "  df_csv = pd.read_csv(ruta_csv)\n"
     ]
    },
    {
     "name": "stdout",
     "output_type": "stream",
     "text": [
      "Comparación de dimensiones para CaliBRANDO18.RData:\n",
      "   Original: 1251 filas, 556 columnas\n",
      "   CSV: 1251 filas, 556 columnas\n",
      "   Excel: 1251 filas, 556 columnas\n",
      "Archivo Excel guardado como 'CaliBRANDO18.xlsx' y csv como 'CaliBRANDO18.csv'\n",
      "----------------------------------------------------------------------------------------------------\n",
      "Leyendo: Data\\RData\\CaliBRANDO19.RData\n",
      "Claves disponibles en CaliBRANDO19.RData: odict_keys(['CaliBRANDO19'])\n",
      "Comparación de dimensiones para CaliBRANDO19.RData:\n",
      "   Original: 1272 filas, 556 columnas\n",
      "   CSV: 1272 filas, 556 columnas\n",
      "   Excel: 1272 filas, 556 columnas\n",
      "Archivo Excel guardado como 'CaliBRANDO19.xlsx' y csv como 'CaliBRANDO19.csv'\n",
      "----------------------------------------------------------------------------------------------------\n",
      "Leyendo: Data\\RData\\CaliBRANDO21.RData\n",
      "Claves disponibles en CaliBRANDO21.RData: odict_keys(['CaliBRANDO21'])\n",
      "Comparación de dimensiones para CaliBRANDO21.RData:\n",
      "   Original: 2750 filas, 556 columnas\n",
      "   CSV: 2750 filas, 556 columnas\n",
      "   Excel: 2750 filas, 556 columnas\n",
      "Archivo Excel guardado como 'CaliBRANDO21.xlsx' y csv como 'CaliBRANDO21.csv'\n",
      "----------------------------------------------------------------------------------------------------\n",
      "Leyendo: Data\\RData\\CaliBRANDO22.RData\n",
      "Claves disponibles en CaliBRANDO22.RData: odict_keys(['CaliBRANDO22'])\n"
     ]
    },
    {
     "name": "stderr",
     "output_type": "stream",
     "text": [
      "C:\\Users\\57312\\AppData\\Local\\Temp\\ipykernel_17372\\3959806701.py:45: DtypeWarning: Columns (198) have mixed types. Specify dtype option on import or set low_memory=False.\n",
      "  df_csv = pd.read_csv(ruta_csv)\n"
     ]
    },
    {
     "name": "stdout",
     "output_type": "stream",
     "text": [
      "Comparación de dimensiones para CaliBRANDO22.RData:\n",
      "   Original: 1306 filas, 556 columnas\n",
      "   CSV: 1306 filas, 556 columnas\n",
      "   Excel: 1306 filas, 556 columnas\n",
      "Archivo Excel guardado como 'CaliBRANDO22.xlsx' y csv como 'CaliBRANDO22.csv'\n",
      "----------------------------------------------------------------------------------------------------\n",
      "Leyendo: Data\\RData\\CaliBRANDO23.RData\n",
      "Claves disponibles en CaliBRANDO23.RData: odict_keys(['CaliBRANDO23'])\n"
     ]
    },
    {
     "name": "stderr",
     "output_type": "stream",
     "text": [
      "C:\\Users\\57312\\AppData\\Local\\Temp\\ipykernel_17372\\3959806701.py:45: DtypeWarning: Columns (198) have mixed types. Specify dtype option on import or set low_memory=False.\n",
      "  df_csv = pd.read_csv(ruta_csv)\n"
     ]
    },
    {
     "name": "stdout",
     "output_type": "stream",
     "text": [
      "Comparación de dimensiones para CaliBRANDO23.RData:\n",
      "   Original: 1304 filas, 556 columnas\n",
      "   CSV: 1304 filas, 556 columnas\n",
      "   Excel: 1304 filas, 556 columnas\n",
      "Archivo Excel guardado como 'CaliBRANDO23.xlsx' y csv como 'CaliBRANDO23.csv'\n",
      "----------------------------------------------------------------------------------------------------\n",
      "Leyendo: Data\\RData\\CaliBRANDO24.RData\n",
      "Claves disponibles en CaliBRANDO24.RData: odict_keys(['CaliBRANDO24'])\n"
     ]
    },
    {
     "name": "stderr",
     "output_type": "stream",
     "text": [
      "C:\\Users\\57312\\AppData\\Local\\Temp\\ipykernel_17372\\3959806701.py:45: DtypeWarning: Columns (40,42,67) have mixed types. Specify dtype option on import or set low_memory=False.\n",
      "  df_csv = pd.read_csv(ruta_csv)\n"
     ]
    },
    {
     "name": "stdout",
     "output_type": "stream",
     "text": [
      "Comparación de dimensiones para CaliBRANDO24.RData:\n",
      "   Original: 1318 filas, 556 columnas\n",
      "   CSV: 1318 filas, 556 columnas\n",
      "   Excel: 1318 filas, 556 columnas\n",
      "Archivo Excel guardado como 'CaliBRANDO24.xlsx' y csv como 'CaliBRANDO24.csv'\n",
      "----------------------------------------------------------------------------------------------------\n"
     ]
    }
   ],
   "source": [
    "# Especificar la carpeta que quieres analizar\n",
    "carpeta = \"Data\\RData\"  # Cambia esto por la ruta de tu carpeta\n",
    "\n",
    "# Verificar si la carpeta existe\n",
    "if not os.path.exists(carpeta):\n",
    "    print(f\"La carpeta '{carpeta}' no existe.\")\n",
    "else:\n",
    "    # Obtener la lista de archivos en la carpeta\n",
    "    archivos = os.listdir(carpeta)\n",
    "\n",
    "    # Filtrar solo archivos (ignorando subcarpetas)\n",
    "    archivos = [archivo for archivo in archivos if os.path.isfile(os.path.join(carpeta, archivo))]\n",
    "    archivos = [archivo for archivo in archivos if archivo.endswith(\".RData\")]\n",
    "\n",
    "\n",
    "    # Mostrar el total de archivos\n",
    "    print(f\"La carpeta '{carpeta}' contiene {len(archivos)} archivos.\")\n",
    "\n",
    "    # Recorrer y mostrar los archivos\n",
    "    for archivo in archivos:\n",
    "        ruta_completa = os.path.join(carpeta, archivo)  # Construir la ruta completa\n",
    "\n",
    "        print(f\"Leyendo: {ruta_completa}\")\n",
    "\n",
    "        try:\n",
    "            result = pyreadr.read_r(ruta_completa)  # Leer el archivo con la ruta completa\n",
    "            print(f\"Claves disponibles en {archivo}: {result.keys()}\")\n",
    "            clave = next(iter(result))\n",
    "\n",
    "            # Acceder a un objeto específico (como un dataframe)\n",
    "            df = result[clave]\n",
    "\n",
    "            # Mostrar el dataframe\n",
    "            #print(df.head())\n",
    "\n",
    "            # Obtener dimensiones del dataframe original\n",
    "            filas_original, columnas_original = df.shape\n",
    "\n",
    "            # Guardar en un archivo csv\n",
    "            nombre_archivo_csv = archivo.replace(\".RData\", \".csv\")\n",
    "            ruta_csv = os.path.join(\"Data\\csv\", nombre_archivo_csv)\n",
    "            df.to_csv(ruta_csv, index=False, encoding=\"utf-8-sig\", sep=\",\", quoting=1)\n",
    "\n",
    "            # Cargar el CSV nuevamente para verificar dimensiones\n",
    "            df_csv = pd.read_csv(ruta_csv)\n",
    "            filas_csv, columnas_csv = df_csv.shape\n",
    "\n",
    "            # Guardar en un archivo Excel\n",
    "            nombre_archivo_excel = archivo.replace(\".RData\", \".xlsx\")\n",
    "            ruta_excel = os.path.join(\"Data\\Excel\", nombre_archivo_excel)\n",
    "            df.to_excel(ruta_excel, index=False)\n",
    "\n",
    "            # Cargar el Excel nuevamente para verificar dimensiones\n",
    "            df_excel = pd.read_excel(ruta_excel)\n",
    "            filas_excel, columnas_excel = df_excel.shape\n",
    "\n",
    "            # Comparar dimensiones\n",
    "            print(f\"Comparación de dimensiones para {archivo}:\")\n",
    "            print(f\"   Original: {filas_original} filas, {columnas_original} columnas\")\n",
    "            print(f\"   CSV: {filas_csv} filas, {columnas_csv} columnas\")\n",
    "            print(f\"   Excel: {filas_excel} filas, {columnas_excel} columnas\")\n",
    "\n",
    "            # Verificar si hay discrepancias\n",
    "            if (filas_original, columnas_original) != (filas_csv, columnas_csv):\n",
    "                print(f\"PELIGROO Diferencia detectada en CSV para {archivo}!\")\n",
    "            if (filas_original, columnas_original) != (filas_excel, columnas_excel):\n",
    "                print(f\"PELIGROO Diferencia detectada en Excel para {archivo}!\")\n",
    "\n",
    "\n",
    "\n",
    "            print(f\"Archivo Excel guardado como '{nombre_archivo_excel}' y csv como '{nombre_archivo_csv}'\")\n",
    "\n",
    "            print(\"-\" * 100)\n",
    "\n",
    "\n",
    "        except Exception as e:\n",
    "            print(\"-\" * 100)\n",
    "            print(f\"Error al leer {archivo}: {e}\")\n",
    "            print(\"-\" * 100)\n"
   ]
  }
 ],
 "metadata": {
  "kernelspec": {
   "display_name": "Python 3",
   "language": "python",
   "name": "python3"
  },
  "language_info": {
   "codemirror_mode": {
    "name": "ipython",
    "version": 3
   },
   "file_extension": ".py",
   "mimetype": "text/x-python",
   "name": "python",
   "nbconvert_exporter": "python",
   "pygments_lexer": "ipython3",
   "version": "3.11.4"
  }
 },
 "nbformat": 4,
 "nbformat_minor": 2
}
