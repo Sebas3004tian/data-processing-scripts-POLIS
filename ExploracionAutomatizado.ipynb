{
 "cells": [
  {
   "cell_type": "markdown",
   "metadata": {},
   "source": [
    "Si nunca ejecutaste el codigo, es mejor que por terminal ejecutes el siguiente comando para descargar las librerias:"
   ]
  },
  {
   "cell_type": "code",
   "execution_count": null,
   "metadata": {},
   "outputs": [],
   "source": [
    "# Este codigo ------->   pip install pandas pyreadr numpy matplotlib seaborn"
   ]
  },
  {
   "cell_type": "code",
   "execution_count": null,
   "metadata": {},
   "outputs": [],
   "source": [
    "#Codigo de importaciones\n",
    "#Importaciones necesarias para que funcione el codigo\n",
    "import pandas as pd\n",
    "import pyreadr\n",
    "import os\n",
    "import numpy as np\n",
    "import matplotlib.pyplot as plt\n",
    "import seaborn as sns"
   ]
  },
  {
   "cell_type": "code",
   "execution_count": null,
   "metadata": {},
   "outputs": [],
   "source": [
    "#Codigo de creación de carpetas\n",
    "# Nombre de la carpeta donde antes de ejecutar el script se guardan los datos CaliBRANDO2024.dta\n",
    "carpeta = \"insumos\"\n",
    "if not os.path.exists(carpeta):\n",
    "    os.makedirs(carpeta)\n",
    "\n",
    "carpeta = \"insumos/data\"\n",
    "if not os.path.exists(carpeta):\n",
    "    os.makedirs(carpeta)\n",
    "\n",
    "carpeta = \"insumos/marco\"\n",
    "if not os.path.exists(carpeta):\n",
    "    os.makedirs(carpeta)\n",
    "\n",
    "# Nombre de la carpeta donde se guardaran los datos\n",
    "carpeta = \"outputs\"\n",
    "if not os.path.exists(carpeta):\n",
    "    os.makedirs(carpeta)\n",
    "\n",
    "carpeta = \"outputs/tablasFrecuencia\"\n",
    "if not os.path.exists(carpeta):\n",
    "    os.makedirs(carpeta)"
   ]
  },
  {
   "cell_type": "code",
   "execution_count": null,
   "metadata": {},
   "outputs": [],
   "source": [
    "#Se lee la base de datos\n",
    "df = pd.read_stata(\"insumos/data/Panel 2023_ 1.dta\")  # Leer el archivo .dta"
   ]
  },
  {
   "cell_type": "code",
   "execution_count": null,
   "metadata": {},
   "outputs": [],
   "source": [
    "#Mostrar base de datos\n",
    "df"
   ]
  },
  {
   "cell_type": "code",
   "execution_count": null,
   "metadata": {},
   "outputs": [],
   "source": [
    "#Se muestran los labels de las variables\n",
    "# Cargar el archivo con un iterador\n",
    "data_reader = pd.read_stata(\"insumos/data/Panel 2023_ 1.dta\", iterator=True)\n",
    "\n",
    "# Extraer las etiquetas de las variables\n",
    "variable_labels = data_reader.variable_labels()\n",
    "\n",
    "# Leer todo el archivo en un DataFrame\n",
    "df = data_reader.read()\n",
    "\n",
    "# Agregar las etiquetas manualmente como un atributo del DataFrame\n",
    "df.attrs[\"variable_labels\"] = variable_labels\n",
    "\n",
    "# Ver las etiquetas\n",
    "print(df.attrs[\"variable_labels\"])\n"
   ]
  },
  {
   "cell_type": "code",
   "execution_count": null,
   "metadata": {},
   "outputs": [],
   "source": [
    "#Se carga el marco instrumental\n",
    "#Se lee el excel y se almacena como dataFrame (df), en este caso el Marco instrumental\n",
    "marco_instrumental = pd.read_excel(\"insumos/marco/Marco Instrumental_CaliBRANDO 2024.xlsx\", skiprows=1)#Se salta la primera fila del excel ya que no tiene informacion\n",
    "\n",
    "# Eliminar las primeras N columnas (por ejemplo, las primeras 1)\n",
    "marco_instrumental = marco_instrumental.iloc[:, 1:]  # Cambia el número según cuántas columnas quieras omitir\n",
    "\n",
    "marco_instrumental"
   ]
  },
  {
   "cell_type": "code",
   "execution_count": null,
   "metadata": {},
   "outputs": [],
   "source": [
    "#Se ve información por año\n",
    "# Contar valores y convertir a DataFrame\n",
    "df_counts = df[\"P01000801\"].value_counts().reset_index()\n",
    "\n",
    "# Renombrar columnas\n",
    "df_counts.columns = [\"P01000801\", \"Numero de encuestas\"]\n",
    "\n",
    "# Convertir los años a enteros\n",
    "df_counts[\"P01000801\"] = df_counts[\"P01000801\"].astype(int)\n",
    "\n",
    "# Ordenar por P01000801 en orden descendente\n",
    "df_counts = df_counts.sort_values(by=\"P01000801\", ascending=False).reset_index(drop=True)\n",
    "\n",
    "# Filtrar para mostrar solo de 2023 a 2015\n",
    "df_counts = df_counts[df_counts[\"P01000801\"].between(2015, 2023)]\n",
    "\n",
    "# Mostrar como tabla\n",
    "df_counts\n"
   ]
  },
  {
   "cell_type": "code",
   "execution_count": null,
   "metadata": {},
   "outputs": [],
   "source": [
    "# Obtener las Masterclas únicas\n",
    "masterclas_unicas = marco_instrumental[\"Masterclas\"].dropna().unique().tolist()\n",
    "\n",
    "# Mostrar resultado en formato de lista vertical\n",
    "print(\"Masterclas únicas:\")\n",
    "i=0\n",
    "for masterclas in masterclas_unicas:\n",
    "    print(f\"({i}):\",masterclas,\".\")\n",
    "    i=i+1\n"
   ]
  },
  {
   "cell_type": "code",
   "execution_count": null,
   "metadata": {},
   "outputs": [],
   "source": [
    "# Seleccionar una masterclas (Que no sea 0 que es logistica)\n",
    "num_masterclas_seleccionada = 1\n",
    "masterclas_seleccionada = masterclas_unicas[num_masterclas_seleccionada]\n",
    "print(\"Masterclas seleccionada:\", masterclas_seleccionada)\n",
    "\n",
    "\n",
    "#print(\"Seleccione una masterclas por su numero:\")\n",
    "#masterclas_seleccionada = masterclas_unicas[int(input())]  "
   ]
  },
  {
   "cell_type": "code",
   "execution_count": null,
   "metadata": {},
   "outputs": [],
   "source": [
    "# Agrupar los códigos por \"Masterclas\"\n",
    "grupos_masterclas = marco_instrumental.groupby(\"Masterclas\")[\"Code\"].apply(list).to_dict()\n",
    "\n",
    "# Función para obtener códigos de una Masterclas específica\n",
    "def obtener_codigos(masterclas):\n",
    "    return grupos_masterclas.get(masterclas, [])\n",
    "\n",
    "# Ejemplo de uso: obtener códigos para una \"Masterclas\" específica\n",
    "codigos = obtener_codigos(masterclas_seleccionada)\n",
    "\n",
    "print(f\"Códigos para {masterclas_seleccionada}: {codigos}\")\n"
   ]
  },
  {
   "cell_type": "code",
   "execution_count": null,
   "metadata": {},
   "outputs": [],
   "source": [
    "# Ver las etiquetas de todo el df\n",
    "print(df.attrs[\"variable_labels\"])\n",
    "variable_labels=df.attrs[\"variable_labels\"]"
   ]
  },
  {
   "cell_type": "code",
   "execution_count": null,
   "metadata": {},
   "outputs": [],
   "source": [
    "#Generar las tablas de los codigos seleccionados\n",
    "# Definir lista de años\n",
    "years = [2015, 2016, 2017, 2018, 2019, 2021, 2022, 2023]\n",
    "codigos_interes = codigos  # Lista de preguntas/códigos\n",
    "\n",
    "# Filtrar `df` para que solo contenga las columnas de interés\n",
    "df_filtrado = df[[\"P01000801\"] + [col for col in df.columns if col in codigos_interes]].copy()\n",
    "\n",
    "# Convertir la columna de años a enteros\n",
    "df_filtrado[\"P01000801\"] = df_filtrado[\"P01000801\"].astype(int)\n",
    "\n",
    "# Asegurar que no haya valores nulos en el año\n",
    "df_filtrado = df_filtrado.dropna(subset=[\"P01000801\"])\n",
    "\n",
    "# Diccionario para almacenar las tablas de cada código\n",
    "tablas_resultado = {}\n",
    "\n",
    "# Iterar sobre cada código en codigos_interes\n",
    "for col in codigos_interes:\n",
    "    if col in df_filtrado.columns:\n",
    "        # Obtener tipo de variable\n",
    "        tipo_variable = df_filtrado[col].dtype\n",
    "        \n",
    "        # Obtener etiqueta del código\n",
    "        etiqueta = variable_labels.get(col, \"Sin etiqueta disponible\")\n",
    "\n",
    "        # Calcular la frecuencia relativa (%) por año\n",
    "        tabla_frecuencia = (\n",
    "            df_filtrado.groupby(\"P01000801\")[col]\n",
    "            .value_counts(normalize=True)\n",
    "            .unstack()\n",
    "            .fillna(0) * 100\n",
    "        )\n",
    "\n",
    "        # Redondear valores a un decimal\n",
    "        tabla_frecuencia = tabla_frecuencia.round(1)\n",
    "\n",
    "        # Asegurar que todos los años están en la tabla\n",
    "        tabla_frecuencia = tabla_frecuencia.reindex(years).fillna(\"Sin datos\")\n",
    "\n",
    "        # Renombrar índice\n",
    "        tabla_frecuencia.index.name = \"Año\"\n",
    "\n",
    "        # Guardar la tabla en el diccionario\n",
    "        tablas_resultado[col] = tabla_frecuencia\n",
    "\n",
    "        # Imprimir la tabla con formato\n",
    "        print(\"------------------------------------------------------------------------------------------\")\n",
    "        print(f\"\\n Tabla de Porcentajes para {col}\")\n",
    "        print(f\"🔹 Etiqueta: {etiqueta}\")\n",
    "        print(f\"🔹 Tipo de Variable: {tipo_variable}\")\n",
    "        print(tabla_frecuencia.to_string(index=True))\n",
    "\n",
    "# Guardar todas las tablas en un archivo Excel\n",
    "with pd.ExcelWriter(\"outputs/tablasFrecuencia/tablas_frecuencia_porcentaje.xlsx\") as writer:\n",
    "    for col, tabla in tablas_resultado.items():\n",
    "        tabla.to_excel(writer, sheet_name=col)\n"
   ]
  },
  {
   "cell_type": "code",
   "execution_count": null,
   "metadata": {},
   "outputs": [],
   "source": [
    "#Selecciona un año para ver la información\n",
    "year=2021\n",
    "yearMarco=\"Var2021\""
   ]
  },
  {
   "cell_type": "code",
   "execution_count": null,
   "metadata": {},
   "outputs": [],
   "source": [
    "# Filtrar los valores donde var2021 no es NaN\n",
    "filtered_codes_forYear = marco_instrumental.loc[marco_instrumental[yearMarco].notna(), \"Code\"]\n",
    "\n",
    "# Mostrar los códigos filtrados\n",
    "print(filtered_codes_forYear.tolist())  # Para obtener una lista de valores\n",
    "list_filtered_codes_forYear = filtered_codes_forYear.tolist()\n",
    "print(len(list_filtered_codes_forYear))  # Para obtener el número de valores"
   ]
  },
  {
   "cell_type": "code",
   "execution_count": null,
   "metadata": {},
   "outputs": [],
   "source": [
    "#Informacion del marco instrumental\n",
    "print(marco_instrumental.columns)"
   ]
  },
  {
   "cell_type": "code",
   "execution_count": null,
   "metadata": {},
   "outputs": [],
   "source": [
    "# No necesario\n",
    "# Seleccionar solo las columnas deseadas\n",
    "#columnas_deseadas = [\"Code\", \"Var2023\", \"Label\", \"0\", \"1\", \"2\" ,\"3\",\"4\",\"5\",\"6\",\"7\",\"8\",\"9\",\"10\",\"11\",\"12\",\"13\",\"14\",\"15\"]\n",
    "#df_seleccionado = marco_instrumental[columnas_deseadas]\n",
    "\n",
    "# Mostrar las primeras filas para verificar\n",
    "#print(df_seleccionado.head())"
   ]
  },
  {
   "cell_type": "code",
   "execution_count": null,
   "metadata": {},
   "outputs": [],
   "source": [
    "#Se filtra la df por el año seleccionado\n",
    "dataOfTheYear=df[df[\"P01000801\"] == year]"
   ]
  },
  {
   "cell_type": "code",
   "execution_count": null,
   "metadata": {},
   "outputs": [],
   "source": [
    "dataOfTheYear[\"P01000801\"].value_counts()\n",
    "\n",
    "print(\"La cantidad de encuestas en el\",year,\" son : \", dataOfTheYear[\"P01000801\"].value_counts().sum())"
   ]
  },
  {
   "cell_type": "code",
   "execution_count": null,
   "metadata": {},
   "outputs": [],
   "source": [
    "# Ver las etiquetas\n",
    "print(dataOfTheYear.attrs[\"variable_labels\"])\n",
    "variable_labels=dataOfTheYear.attrs[\"variable_labels\"]"
   ]
  },
  {
   "cell_type": "code",
   "execution_count": null,
   "metadata": {},
   "outputs": [],
   "source": [
    "# Crear un diccionario para almacenar la informacion de las variables\n",
    "column_info = {}\n",
    "\n",
    "for col in dataOfTheYear.columns:\n",
    "    unique_values = dataOfTheYear[col].nunique()  # Cantidad de valores únicos\n",
    "    dtype = dataOfTheYear[col].dtype  # Tipo de datos exacto\n",
    "\n",
    "    # Clasificar el tipo de variable\n",
    "    if pd.api.types.is_numeric_dtype(dataOfTheYear[col]):\n",
    "        var_type = \"float\" if pd.api.types.is_float_dtype(dataOfTheYear[col]) else \"int\"\n",
    "    elif pd.api.types.is_string_dtype(dataOfTheYear[col]):\n",
    "        var_type = \"string\"\n",
    "    elif pd.api.types.is_categorical_dtype(dataOfTheYear[col]):\n",
    "        var_type = \"categorical\"\n",
    "    elif pd.api.types.is_datetime64_any_dtype(dataOfTheYear[col]):\n",
    "        var_type = \"datetime\"\n",
    "    else:\n",
    "        var_type = \"other\"\n",
    "\n",
    "    column_info[col] = {\"unique_values\": unique_values, \"dtype\": dtype, \"variable_type\": var_type}\n",
    "\n",
    "# Convertir a un DataFrame\n",
    "column_summary = pd.DataFrame.from_dict(column_info, orient='index')\n",
    "\n",
    "# Guardar en CSV para consulta posterior\n",
    "#column_summary.to_csv(\"outputs/dataOfTheYear_column_summary.csv\")\n",
    "\n",
    "# Mostrar el resumen\n",
    "print(column_summary)\n"
   ]
  },
  {
   "cell_type": "code",
   "execution_count": null,
   "metadata": {},
   "outputs": [],
   "source": [
    "#Tipos de dato de las variables\n",
    "column_summary[\"variable_type\"].unique()\n"
   ]
  },
  {
   "cell_type": "code",
   "execution_count": null,
   "metadata": {},
   "outputs": [],
   "source": [
    "#Columnas de la base de datos\n",
    "print(dataOfTheYear.columns)"
   ]
  },
  {
   "cell_type": "code",
   "execution_count": null,
   "metadata": {},
   "outputs": [],
   "source": [
    "#Todos los valores unicos de las columnas\n",
    "for col in dataOfTheYear.columns:\n",
    "    print(f\"{col}: {df[col].unique()}\")"
   ]
  },
  {
   "cell_type": "code",
   "execution_count": null,
   "metadata": {},
   "outputs": [],
   "source": [
    "# =====================\n",
    "# FUNCIONES AUXILIARES\n",
    "# =====================\n",
    "def get_variable_label(df, column):\n",
    "    \"\"\"Devuelve la etiqueta de una variable si está almacenada en los atributos del DataFrame.\"\"\"\n",
    "    return df.attrs.get(\"variable_labels\", {}).get(column, f\"Sin etiqueta para '{column}'\")\n",
    "\n",
    "def describe_variable(df, column):\n",
    "    \"\"\"Muestra estadísticas descriptivas de una variable.\"\"\"\n",
    "    if column not in df or df[column].isna().all():\n",
    "        return False  # Indica que la variable está vacía\n",
    "    \n",
    "    print(f\"\\nResumen de '{column}' ({get_variable_label(df, column)})\")\n",
    "    print(\"-\" * 50)\n",
    "    print(df[column].describe())\n",
    "    \n",
    "    return True  # Indica que la variable tiene datos\n",
    "\n",
    "def frequency_table(df, column, max_categories=100):\n",
    "    \"\"\"Genera una tabla de frecuencias y etiqueta de la variable, limitando la cantidad mostrada.\"\"\"\n",
    "    if column not in df or df[column].dropna().empty:\n",
    "        return False  # Indica que la columna está vacía\n",
    "    \n",
    "    value_counts = df[column].value_counts(dropna=False)\n",
    "    \n",
    "    if value_counts.empty:\n",
    "        return False\n",
    "    \n",
    "    freq_table = value_counts.reset_index()\n",
    "    freq_table.columns = [column, \"Frecuencia\"]\n",
    "    freq_table[\"Porcentaje\"] = (freq_table[\"Frecuencia\"] / freq_table[\"Frecuencia\"].sum()) * 100\n",
    "    freq_table[\"Etiqueta\"] = freq_table[column].map(lambda x: get_variable_label(df, column))\n",
    "\n",
    "    total_categories = len(freq_table)\n",
    "    \n",
    "    print(f\"\\nTabla de Frecuencias para '{column}' ({get_variable_label(df, column)})\")\n",
    "    \n",
    "    if total_categories > max_categories:\n",
    "        print(f\"⚠️ Hay demasiadas categorías ({total_categories}), mostrando solo las primeras {max_categories}.\")\n",
    "        print(freq_table.head(max_categories).to_string(index=False))\n",
    "    else:\n",
    "        print(freq_table.to_string(index=False))  # Muestra todas las categorías si son pocas\n",
    "    \n",
    "    return True  # Indica que esta tabla tenía datos\n",
    "\n",
    "def show_all_statistics(df, max_categories=100):\n",
    "    \"\"\"Muestra estadísticas descriptivas y tablas de frecuencia de todas las columnas.\n",
    "    \n",
    "    Retorna:\n",
    "        - tables_generated: Lista con los códigos de las variables que tuvieron tabla de frecuencia.\n",
    "        - empty_tables: Lista con los códigos de las variables que estaban vacías.\n",
    "    \"\"\"\n",
    "    tables_generated = []\n",
    "    empty_tables = []\n",
    "    \n",
    "    for col in df.columns:\n",
    "        if describe_variable(df, col):  # Solo genera la tabla si la variable no está vacía\n",
    "            if frequency_table(df, col, max_categories):\n",
    "                tables_generated.append(col)  # Solo el código, sin la etiqueta\n",
    "            else:\n",
    "                empty_tables.append(col)\n",
    "        else:\n",
    "            empty_tables.append(col)\n",
    "        \n",
    "        print(\"=\" * 100)  # Separador visual\n",
    "    \n",
    "    print(\"\\n✅ **Resumen de Tablas de Frecuencia:**\")\n",
    "    print(\"📌 Tablas generadas para los siguientes códigos:\")\n",
    "    print(\"\\n\".join(tables_generated) if tables_generated else \"❌ No se generaron tablas de frecuencia.\")\n",
    "    \n",
    "    print(\"\\n⚠️ Variables sin datos (no se generó tabla):\")\n",
    "    print(\"\\n\".join(empty_tables) if empty_tables else \"✅ Todas las variables tenían datos.\")\n",
    "    \n",
    "    return tables_generated, empty_tables\n",
    "\n",
    "\n",
    "# ===========================\n",
    "# CICLO PARA GRÁFICAS\n",
    "# ===========================\n",
    "def plot_variable(df, column, max_categories=20):\n",
    "    \"\"\"Grafica la distribución de una variable con una leyenda lateral para mejorar la legibilidad.\"\"\"\n",
    "    if column not in df or df[column].isna().all():\n",
    "        print(f\"⚠️ No se puede graficar '{column}', está vacía o no existe.\")\n",
    "        return\n",
    "    \n",
    "    if pd.api.types.is_numeric_dtype(df[column]):\n",
    "        plt.figure(figsize=(8, 4))\n",
    "        sns.histplot(df[column], bins=20, kde=True, color=\"royalblue\")\n",
    "        plt.title(f\"Distribución de {get_variable_label(df, column)}\")\n",
    "        plt.xlabel(get_variable_label(df, column))\n",
    "        plt.ylabel(\"Frecuencia\")\n",
    "        plt.show()\n",
    "        return\n",
    "    \n",
    "    elif isinstance(df[column].dtype, pd.CategoricalDtype) or df[column].dtype == 'object':\n",
    "        counts = df[column].value_counts().dropna()\n",
    "        if len(counts) > max_categories:\n",
    "            counts = counts[:max_categories]\n",
    "        \n",
    "        # Convertir los índices a string explícitamente\n",
    "        categories = counts.index.astype(str)\n",
    "        \n",
    "        # Crear la paleta de colores\n",
    "        palette = sns.color_palette(\"Blues_r\", len(counts))\n",
    "        \n",
    "        fig, ax = plt.subplots(figsize=(8, 4))  # Crear figura y eje principal\n",
    "        bars = ax.bar(range(len(categories)), counts.values, color=palette)\n",
    "        \n",
    "        plt.title(f\"Frecuencia de {get_variable_label(df, column)}\")\n",
    "        plt.xlabel(get_variable_label(df, column))\n",
    "        plt.ylabel(\"Frecuencia\")\n",
    "        plt.xticks([])  # Ocultar los valores en el eje X para evitar amontonamiento\n",
    "        \n",
    "        # Crear la leyenda lateral\n",
    "        legend_labels = [f\"{label}: {value}\" for label, value in zip(categories, counts.values)]\n",
    "        patches = [plt.Line2D([0], [0], marker='o', color='w', markerfacecolor=color, markersize=10) \n",
    "                   for color in palette]\n",
    "        \n",
    "        ax.legend(patches, legend_labels, title=\"Categorías\", loc=\"center left\", bbox_to_anchor=(1, 0.5))\n",
    "    \n",
    "    plt.show()\n",
    "\n",
    "def show_all_graphs(df):\n",
    "    \"\"\"Genera gráficos para todas las variables.\"\"\"\n",
    "    for col in df.columns:\n",
    "        print(f\"\\n📊 Gráfica de {col}\")\n",
    "        plot_variable(df, col)\n"
   ]
  },
  {
   "cell_type": "code",
   "execution_count": null,
   "metadata": {},
   "outputs": [],
   "source": [
    "tables, empty = show_all_statistics(dataOfTheYear)\n",
    "\n",
    "print(\"\\n📊 Variables con tabla de frecuencia generada:\", tables)\n",
    "print(\"\\n⚠ Variables sin datos:\", empty)\n"
   ]
  },
  {
   "cell_type": "code",
   "execution_count": null,
   "metadata": {},
   "outputs": [],
   "source": [
    "print(list_filtered_codes_forYear)"
   ]
  },
  {
   "cell_type": "code",
   "execution_count": null,
   "metadata": {},
   "outputs": [],
   "source": [
    "print(empty)\n",
    "print(len(empty))"
   ]
  },
  {
   "cell_type": "code",
   "execution_count": null,
   "metadata": {},
   "outputs": [],
   "source": [
    "print(tables)\n",
    "print(len(tables))"
   ]
  },
  {
   "cell_type": "code",
   "execution_count": null,
   "metadata": {},
   "outputs": [],
   "source": [
    "# Códigos que están en list_filtered_codes_forYear pero no en tables\n",
    "only_in_filtered = set(list_filtered_codes_forYear) - set(tables)\n",
    "\n",
    "# Códigos que están en tables pero no en list_filtered_codes_forYear\n",
    "only_in_tables = set(tables) - set(list_filtered_codes_forYear)\n",
    "\n",
    "# Resultados\n",
    "print(\"Códigos solo en list_filtered_codes_forYear:(es decir que faltaron por realizar tabla de frecuencia)\", list(only_in_filtered))\n",
    "print(\"Cantidad:\", len(only_in_filtered))\n",
    "\n",
    "print(\"Códigos solo en tables:\", list(only_in_tables))\n",
    "print(\"Cantidad:\", len(only_in_tables))\n"
   ]
  },
  {
   "cell_type": "code",
   "execution_count": null,
   "metadata": {},
   "outputs": [],
   "source": [
    "def get_labels_for_list(df, lista):\n",
    "    \"\"\"Devuelve un diccionario con los códigos y sus etiquetas.\"\"\"\n",
    "    return {col: get_variable_label(df, col) for col in lista}\n",
    "\n",
    "# Ejemplo de uso\n",
    "labels_dict = get_labels_for_list(df,only_in_filtered)\n",
    "\n",
    "# Imprimir etiquetas\n",
    "for code, label in labels_dict.items():\n",
    "    print(f\"{code}: {label}\")\n"
   ]
  },
  {
   "cell_type": "code",
   "execution_count": null,
   "metadata": {},
   "outputs": [],
   "source": [
    "def analyze_variable_frequencies(df, variable_list, max_categories=20):\n",
    "    \"\"\"Muestra la frecuencia de variables específicas y detecta si están vacías.\n",
    "    \n",
    "    - Si una variable tiene pocas categorías, muestra su tabla de frecuencias.\n",
    "    - Si está vacía, la lista en una sección aparte.\n",
    "    \n",
    "    Retorna:\n",
    "    - `frequency_data`: Diccionario con la tabla de frecuencias de cada variable no vacía.\n",
    "    - `empty_variables`: Lista de variables vacías.\n",
    "    \"\"\"\n",
    "    frequency_data = {}\n",
    "    empty_variables = []\n",
    "\n",
    "    for var in variable_list:\n",
    "        if var not in df or df[var].isna().all():\n",
    "            empty_variables.append(var)\n",
    "            continue  # Pasa a la siguiente variable si está vacía\n",
    "        \n",
    "        # Obtener conteo de valores\n",
    "        value_counts = df[var].value_counts(dropna=False)\n",
    "        \n",
    "        # Si hay pocas categorías, guardar la tabla de frecuencia\n",
    "        if len(value_counts) <= max_categories:\n",
    "            freq_table = value_counts.reset_index()\n",
    "            freq_table.columns = [var, \"Frecuencia\"]\n",
    "            freq_table[\"Porcentaje\"] = (freq_table[\"Frecuencia\"] / freq_table[\"Frecuencia\"].sum()) * 100\n",
    "            frequency_data[var] = freq_table\n",
    "            print(f\"\\n📌 **Tabla de Frecuencias para '{var}' ({get_variable_label(df, var)})**\")\n",
    "            print(freq_table.to_string(index=False))\n",
    "        else:\n",
    "            print(f\"\\n⚠️ '{var}' tiene demasiadas categorías ({len(value_counts)}) para mostrar la tabla completa.\")\n",
    "\n",
    "    print(\"\\n⚠️ **Variables sin datos:**\")\n",
    "    if empty_variables:\n",
    "        print(\"\\n\".join(empty_variables))\n",
    "    else:\n",
    "        print(\"✅ Todas las variables tienen datos.\")\n",
    "\n",
    "    return frequency_data, empty_variables\n",
    "\n",
    "frequency_data, empty_variables = analyze_variable_frequencies(df, only_in_filtered)\n",
    "\n",
    "\n"
   ]
  },
  {
   "cell_type": "code",
   "execution_count": null,
   "metadata": {},
   "outputs": [],
   "source": [
    "show_all_graphs(dataOfTheYear)"
   ]
  }
 ],
 "metadata": {
  "kernelspec": {
   "display_name": "Python 3",
   "language": "python",
   "name": "python3"
  },
  "language_info": {
   "codemirror_mode": {
    "name": "ipython",
    "version": 3
   },
   "file_extension": ".py",
   "mimetype": "text/x-python",
   "name": "python",
   "nbconvert_exporter": "python",
   "pygments_lexer": "ipython3",
   "version": "3.11.4"
  }
 },
 "nbformat": 4,
 "nbformat_minor": 2
}
