{
  "cells": [
    {
      "cell_type": "code",
      "execution_count": null,
      "metadata": {
        "id": "sFztYxkVYsFl"
      },
      "outputs": [],
      "source": [
        "#pip install pyreadr\n",
        "\n",
        "#Importaciones necesarias para que funcione el codigo\n",
        "import pandas as pd\n",
        "import pyreadr\n",
        "import os"
      ]
    },
    {
      "cell_type": "code",
      "execution_count": null,
      "metadata": {
        "id": "R5Z_sNFicz_4"
      },
      "outputs": [],
      "source": [
        "# Nombre de la carpeta donde guardaremos el marco instrumental\n",
        "carpeta = \"Marco_Instrumental\"\n",
        "if not os.path.exists(carpeta):\n",
        "    os.makedirs(carpeta)"
      ]
    },
    {
      "cell_type": "markdown",
      "metadata": {
        "id": "OMgFZWWeZ4xU"
      },
      "source": [
        "# Filtrado de datos, para el Diccionario de Variables"
      ]
    },
    {
      "cell_type": "code",
      "execution_count": null,
      "metadata": {},
      "outputs": [],
      "source": [
        "#Se lee el excel y se almacena como dataFrame (df), en este caso el Marco instrumental\n",
        "df = pd.read_excel(\"Marco_Instrumental/Marco Instrumental_CaliBRANDO 2024.xlsx\", skiprows=1)#Se salta la primera fila del excel ya que no tiene informacion\n",
        "\n",
        "# Eliminar las primeras N columnas (por ejemplo, las primeras 1)\n",
        "df = df.iloc[:, 1:]  # Cambia el número según cuántas columnas quieras omitir\n",
        "\n",
        "df"
      ]
    },
    {
      "cell_type": "code",
      "execution_count": null,
      "metadata": {
        "id": "t709aNrbll8o"
      },
      "outputs": [],
      "source": [
        "#Se realiza el filtrado de unicamente las columnas Label y Code\n",
        "df_filtrado = df[['Label', 'Code']]\n",
        "\n",
        "#Obtenemos los dos archivos filtrados segun sea necesario (csv, xlsx)\n",
        "carpeta=\"Diccionario_de_Variables\"\n",
        "if not os.path.exists(carpeta):\n",
        "    os.makedirs(carpeta)\n",
        "\n",
        "# Guardar el archivo CSV dentro de la carpeta\n",
        "ruta_csv = os.path.join(carpeta, \"Diccionario_Variables.csv\")\n",
        "df_filtrado.to_csv(ruta_csv, index=False, encoding=\"utf-8-sig\", sep=\",\", quoting=1)\n",
        "\n",
        "# Guardar el archivo Excel dentro de la carpeta\n",
        "ruta_excel = os.path.join(carpeta, \"Diccionario_Variables.xlsx\")\n",
        "df_filtrado.to_excel(ruta_excel, index=False)\n",
        "\n"
      ]
    },
    {
      "cell_type": "code",
      "execution_count": null,
      "metadata": {
        "colab": {
          "base_uri": "https://localhost:8080/"
        },
        "id": "hrTYABOj0XsL",
        "outputId": "e966206b-71b8-48f6-839d-86f8176ac8a6"
      },
      "outputs": [],
      "source": [
        "#Solo se usa para imprimir la cabeza del dataFrame filtrado y ver si esta en orden\n",
        "print(df_filtrado.head())"
      ]
    }
  ],
  "metadata": {
    "colab": {
      "provenance": []
    },
    "kernelspec": {
      "display_name": "Python 3",
      "name": "python3"
    },
    "language_info": {
      "codemirror_mode": {
        "name": "ipython",
        "version": 3
      },
      "file_extension": ".py",
      "mimetype": "text/x-python",
      "name": "python",
      "nbconvert_exporter": "python",
      "pygments_lexer": "ipython3",
      "version": "3.11.4"
    }
  },
  "nbformat": 4,
  "nbformat_minor": 0
}
